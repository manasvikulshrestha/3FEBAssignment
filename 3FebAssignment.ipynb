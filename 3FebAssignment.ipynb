{
 "cells": [
  {
   "cell_type": "markdown",
   "id": "75dbb88a-c820-4807-a16b-571e2d72450d",
   "metadata": {},
   "source": [
    "Q1. Which keyword is used to create a function? Create a function to return a list of odd numbers in the  range of 1 to 25. \n",
    "A1. The 'def' keyword is used to create a function."
   ]
  },
  {
   "cell_type": "code",
   "execution_count": 3,
   "id": "a9c89625-47b6-47b2-9771-7185626aa049",
   "metadata": {},
   "outputs": [
    {
     "data": {
      "text/plain": [
       "[1, 3, 5, 7, 9, 11, 13, 15, 17, 19, 21, 23, 25]"
      ]
     },
     "execution_count": 3,
     "metadata": {},
     "output_type": "execute_result"
    }
   ],
   "source": [
    "def odd_list():\n",
    "    l=[]\n",
    "    for i in range(1,26):\n",
    "        if i%2!=0:\n",
    "            l.append(i)\n",
    "    return l\n",
    "odd_list()"
   ]
  },
  {
   "cell_type": "markdown",
   "id": "883057d4-7873-4644-95b8-d7e67c2b7fcc",
   "metadata": {},
   "source": [
    "Q2. Why *args and **kwargs is used in some functions? Create a function each for *args and **kwargs  to demonstrate their use. \n",
    "A2. The args stands for arguments that are passed to the function whereas kwargs stands for keyword arguments which are passed along with the values into the function.\n",
    "Python has an *args which allows the user to pass a multiple number of arguments to the function.\n",
    "**kwargs allows us to pass a variable number of keyworded arguments to the function."
   ]
  },
  {
   "cell_type": "code",
   "execution_count": 4,
   "id": "d2b842c8-2551-4ef9-b4da-7d1b3014eb0b",
   "metadata": {},
   "outputs": [
    {
     "name": "stdout",
     "output_type": "stream",
     "text": [
      "('Sean', 'Male', 38, 'London', 9375821987)\n"
     ]
    }
   ],
   "source": [
    "def Person(*args):\n",
    "    print(args)\n",
    "\n",
    "Person('Sean', 'Male', 38, 'London', 9375821987)\n"
   ]
  },
  {
   "cell_type": "code",
   "execution_count": 6,
   "id": "b416f226-dce0-47d3-8e26-87345301c236",
   "metadata": {},
   "outputs": [
    {
     "name": "stdout",
     "output_type": "stream",
     "text": [
      "Name -> Sean\n",
      "Sex -> Male\n",
      "Age -> 38\n",
      "City -> London\n",
      "Mobile -> 2222821987\n"
     ]
    }
   ],
   "source": [
    "def Person(**kwargs):\n",
    "    for key, value in kwargs.items():\n",
    "        print(\"{} -> {}\".format(key, value))    # OR print(f'{key} -> {value}')\n",
    "\n",
    "Person(Name = 'Sean', Sex = 'Male', Age = 38, City = 'London', Mobile = 2222821987)\n"
   ]
  },
  {
   "cell_type": "markdown",
   "id": "811977e6-8c66-43bc-abc1-ee211b836d35",
   "metadata": {},
   "source": [
    "Q3.  What is an iterator in python? Name the method used to initialise the iterator object and the method  used for iteration. Use these methods to print the first five elements of the given list [2, 4, 6, 8, 10, 12, 14,  16, 18, 20]. \n",
    "A3. Iterators are objects that allow you to traverse through all the elements of a collection and return one element at a time. iter() is the method used to initialise the iterator object and next() is the method used for iteration."
   ]
  },
  {
   "cell_type": "code",
   "execution_count": 10,
   "id": "ac7e8347-8558-4960-8ac9-fb020e450c57",
   "metadata": {},
   "outputs": [
    {
     "name": "stdout",
     "output_type": "stream",
     "text": [
      "2\n",
      "4\n",
      "6\n",
      "8\n",
      "10\n"
     ]
    }
   ],
   "source": [
    "l=[2, 4, 6, 8, 10, 12, 14,  16, 18, 20]\n",
    "l1=iter(l)\n",
    "print(next(l1))\n",
    "print(next(l1))\n",
    "print(next(l1))\n",
    "print(next(l1))\n",
    "print(next(l1))"
   ]
  },
  {
   "cell_type": "markdown",
   "id": "7c22f735-0a46-4855-8b14-dab70ed04512",
   "metadata": {},
   "source": [
    "Q4.  What is a generator function in python? Why yield keyword is used? Give an example of a generator  function. \n",
    "A4. In Python, a generator is a function that returns an iterator that produces a sequence of values when iterated over.\n",
    "Generators are useful when we want to produce a large sequence of values, but we don't want to store all of them in memory at once. We can define a generator function using the def keyword, but instead of the return statement we use the yield statement. The yield keyword is used to produce a value from the generator.\n",
    "When the generator function is called, it does not execute the function body immediately. Instead, it returns a generator object that can be iterated over to produce the values.\n"
   ]
  },
  {
   "cell_type": "code",
   "execution_count": 11,
   "id": "18ac005f-da4b-4f5a-b6d0-3c30275ff005",
   "metadata": {},
   "outputs": [
    {
     "name": "stdout",
     "output_type": "stream",
     "text": [
      "1\n",
      "3\n",
      "5\n",
      "7\n",
      "9\n",
      "11\n",
      "13\n",
      "15\n",
      "17\n",
      "19\n"
     ]
    }
   ],
   "source": [
    "def odd_list(n):\n",
    "    a=1\n",
    "    for i in range(n):\n",
    "        yield a\n",
    "        a+=2\n",
    "for i in odd_list(10):\n",
    "    print(i)"
   ]
  },
  {
   "cell_type": "markdown",
   "id": "e2210409-c64e-427e-b6fc-5899836c0a71",
   "metadata": {},
   "source": [
    "Q5. Create a generator function for prime numbers less than 1000. Use the next() method to print the  first 20 prime numbers. "
   ]
  },
  {
   "cell_type": "code",
   "execution_count": 2,
   "id": "0ebae2d1-21f8-40f8-9672-cb60cfaed6cb",
   "metadata": {},
   "outputs": [
    {
     "name": "stdout",
     "output_type": "stream",
     "text": [
      "2\n",
      "3\n",
      "5\n",
      "7\n",
      "11\n",
      "13\n",
      "17\n",
      "19\n",
      "23\n",
      "29\n",
      "31\n",
      "37\n",
      "41\n",
      "43\n",
      "47\n",
      "53\n",
      "59\n",
      "61\n",
      "67\n",
      "71\n"
     ]
    }
   ],
   "source": [
    "def genprime():\n",
    "    count = 2\n",
    "    while count<1000:\n",
    "        isprime = True     \n",
    "        for x in range(2, int(count**0.5 + 1)):\n",
    "            if count % x == 0: \n",
    "                isprime = False\n",
    "                break\n",
    "        if isprime:\n",
    "            yield count\n",
    "        count += 1\n",
    "        \n",
    "g=genprime()\n",
    "for i in range(20):\n",
    "    print(next(g))"
   ]
  },
  {
   "cell_type": "markdown",
   "id": "540f0e75-7549-412d-bee1-f45540ac01d4",
   "metadata": {},
   "source": [
    "Q6. Write a python program to print the first 10 Fibonacci numbers using a while loop. "
   ]
  },
  {
   "cell_type": "code",
   "execution_count": 4,
   "id": "1ca3be6b-d559-45c5-94b1-f712633ea737",
   "metadata": {},
   "outputs": [
    {
     "name": "stdout",
     "output_type": "stream",
     "text": [
      "0\n",
      "1\n",
      "1\n",
      "2\n",
      "3\n",
      "5\n",
      "8\n",
      "13\n",
      "21\n",
      "34\n"
     ]
    }
   ],
   "source": [
    "def gen_fib():\n",
    "    a,b=0,1\n",
    "    while True:\n",
    "        yield a\n",
    "        a,b=b,a+b\n",
    "\n",
    "fib=gen_fib()\n",
    "\n",
    "for i in range(10):\n",
    "    print(next(fib))"
   ]
  },
  {
   "cell_type": "markdown",
   "id": "fa89bc76-3807-489f-8089-fb275e989335",
   "metadata": {},
   "source": [
    "Q7. Write a List Comprehension to iterate through the given string: ‘pwskills’. \n",
    "Expected output: ['p', 'w', 's', 'k', 'i', 'l', 'l', 's']  "
   ]
  },
  {
   "cell_type": "code",
   "execution_count": 5,
   "id": "b9f3b3f9-c53e-460f-bdeb-820460b29f90",
   "metadata": {},
   "outputs": [
    {
     "name": "stdout",
     "output_type": "stream",
     "text": [
      "['p', 'w', 's', 'k', 'i', 'l', 'l', 's']\n"
     ]
    }
   ],
   "source": [
    "l=[]\n",
    "for ch in 'pwskills':\n",
    "    l.append(ch)\n",
    "    \n",
    "print(l)"
   ]
  },
  {
   "cell_type": "markdown",
   "id": "c0e16f40-0871-4d7c-ad76-fb864ef31258",
   "metadata": {},
   "source": [
    "Q8. Write a python program to check whether a given number is Palindrome or not using a while loop. "
   ]
  },
  {
   "cell_type": "code",
   "execution_count": 10,
   "id": "d9de8a5d-8c37-443c-8a9b-33c8a8ae53a6",
   "metadata": {},
   "outputs": [
    {
     "name": "stdin",
     "output_type": "stream",
     "text": [
      "Enter any number: 111\n"
     ]
    },
    {
     "name": "stdout",
     "output_type": "stream",
     "text": [
      "111 is a Palindrome\n"
     ]
    }
   ],
   "source": [
    "def palin(n):\n",
    "    temp=n\n",
    "    rev=0\n",
    "    while(n>0):\n",
    "        d=n%10\n",
    "        rev=rev*10+d\n",
    "        n=n//10\n",
    "    if(temp==rev):\n",
    "        print(f'{temp} is a Palindrome')\n",
    "    else:\n",
    "        print(\"Not a Palindrome!\")\n",
    "        \n",
    "num=int(input(\"Enter any number:\"))\n",
    "palin(num)"
   ]
  },
  {
   "cell_type": "markdown",
   "id": "72cafa3b-f76d-4e8a-b3e8-6738dd2707ac",
   "metadata": {},
   "source": [
    "Q9. Write a code to print odd numbers from 1 to 100 using list comprehension. \n",
    "Note: Use a list comprehension to create a list from 1 to 100 and use another List comprehension to filter  out odd numbers. "
   ]
  },
  {
   "cell_type": "code",
   "execution_count": 11,
   "id": "9961bbf4-d352-4e4d-a3c8-ad10ed400ac4",
   "metadata": {},
   "outputs": [
    {
     "name": "stdout",
     "output_type": "stream",
     "text": [
      "[1, 3, 5, 7, 9, 11, 13, 15, 17, 19, 21, 23, 25, 27, 29, 31, 33, 35, 37, 39, 41, 43, 45, 47, 49, 51, 53, 55, 57, 59, 61, 63, 65, 67, 69, 71, 73, 75, 77, 79, 81, 83, 85, 87, 89, 91, 93, 95, 97, 99]\n"
     ]
    }
   ],
   "source": [
    "nums=list(range(1,101))\n",
    "odd_nums=list(filter(lambda x: x%2!=0, nums))\n",
    "print(odd_nums)"
   ]
  }
 ],
 "metadata": {
  "kernelspec": {
   "display_name": "Python 3 (ipykernel)",
   "language": "python",
   "name": "python3"
  },
  "language_info": {
   "codemirror_mode": {
    "name": "ipython",
    "version": 3
   },
   "file_extension": ".py",
   "mimetype": "text/x-python",
   "name": "python",
   "nbconvert_exporter": "python",
   "pygments_lexer": "ipython3",
   "version": "3.10.8"
  }
 },
 "nbformat": 4,
 "nbformat_minor": 5
}
